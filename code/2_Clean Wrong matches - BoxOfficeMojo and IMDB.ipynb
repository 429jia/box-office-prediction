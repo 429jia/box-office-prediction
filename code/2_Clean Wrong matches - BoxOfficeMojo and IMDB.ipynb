{
 "cells": [
  {
   "cell_type": "markdown",
   "metadata": {},
   "source": [
    "## Scrape the right movie info for Wrong matches"
   ]
  },
  {
   "cell_type": "code",
   "execution_count": 10,
   "metadata": {
    "ExecuteTime": {
     "end_time": "2017-11-28T04:23:35.427348Z",
     "start_time": "2017-11-28T04:23:35.422854Z"
    },
    "collapsed": true
   },
   "outputs": [],
   "source": [
    "import pandas as pd\n",
    "import numpy as np\n",
    "import requests\n",
    "import json\n",
    "import time\n",
    "from bs4 import BeautifulSoup\n",
    "import csv"
   ]
  },
  {
   "cell_type": "code",
   "execution_count": 11,
   "metadata": {
    "ExecuteTime": {
     "end_time": "2017-11-28T04:23:36.142909Z",
     "start_time": "2017-11-28T04:23:36.121455Z"
    },
    "collapsed": true
   },
   "outputs": [],
   "source": [
    "thisyear = '2016'\n",
    "box = pd.read_csv('box' + thisyear +'.csv')\n",
    "imdb = pd.read_csv('IMDB' + thisyear +'.csv')\n",
    "error = pd.read_csv('error' + thisyear  + '.csv')"
   ]
  },
  {
   "cell_type": "code",
   "execution_count": 12,
   "metadata": {
    "ExecuteTime": {
     "end_time": "2017-11-28T04:23:38.084073Z",
     "start_time": "2017-11-28T04:23:38.071492Z"
    },
    "collapsed": true,
    "scrolled": true
   },
   "outputs": [],
   "source": [
    "box_imdb = pd.merge(box, imdb,  how='inner', left_on=['rank'], right_on = ['RankinBoxOffice'])\n",
    "all_wide = pd.merge(box_imdb, error,  how='left', left_on=['rank'], right_on = ['RankinBoxOffice'])"
   ]
  },
  {
   "cell_type": "code",
   "execution_count": 13,
   "metadata": {
    "ExecuteTime": {
     "end_time": "2017-11-28T04:23:44.968072Z",
     "start_time": "2017-11-28T04:23:41.759854Z"
    }
   },
   "outputs": [
    {
     "name": "stdout",
     "output_type": "stream",
     "text": [
      "http://www.omdbapi.com/?i=tt3748528&apikey=c525df90\n",
      "http://www.omdbapi.com/?i=tt3040964&apikey=c525df90\n",
      "http://www.omdbapi.com/?i=tt1289401&apikey=c525df90\n",
      "http://www.omdbapi.com/?i=tt3631112&apikey=c525df90\n",
      "http://www.omdbapi.com/?i=tt3410834&apikey=c525df90\n",
      "http://www.omdbapi.com/?i=tt4172430&apikey=c525df90\n",
      "http://www.omdbapi.com/?i=tt0803096&apikey=c525df90\n",
      "http://www.omdbapi.com/?i=tt3882082&apikey=c525df90\n",
      "http://www.omdbapi.com/?i=tt2638144&apikey=c525df90\n",
      "http://www.omdbapi.com/?i=tt1663202&apikey=c525df90\n",
      "http://www.omdbapi.com/?i=tt2660888&apikey=c525df90\n",
      "http://www.omdbapi.com/?i=tt1355644&apikey=c525df90\n",
      "http://www.omdbapi.com/?i=tt2404435&apikey=c525df90\n",
      "http://www.omdbapi.com/?i=tt2788732&apikey=c525df90\n",
      "http://www.omdbapi.com/?i=tt4975722&apikey=c525df90\n",
      "http://www.omdbapi.com/?i=tt4263482&apikey=c525df90\n",
      "http://www.omdbapi.com/?i=tt4383594&apikey=c525df90\n",
      "http://www.omdbapi.com/?i=tt3170832&apikey=c525df90\n",
      "http://www.omdbapi.com/?i=tt3072482&apikey=c525df90\n",
      "http://www.omdbapi.com/?i=tt4731008&apikey=c525df90\n",
      "http://www.omdbapi.com/?i=tt1172049&apikey=c525df90\n",
      "http://www.omdbapi.com/?i=tt1490785&apikey=c525df90\n",
      "http://www.omdbapi.com/?i=tt3859304&apikey=c525df90\n",
      "http://www.omdbapi.com/?i=tt3499096&apikey=c525df90\n",
      "http://www.omdbapi.com/?i=tt2057392&apikey=c525df90\n",
      "http://www.omdbapi.com/?i=tt2461150&apikey=c525df90\n",
      "http://www.omdbapi.com/?i=tt3014866&apikey=c525df90\n",
      "http://www.omdbapi.com/?i=tt3766394&apikey=c525df90\n",
      "http://www.omdbapi.com/?i=tt3068194&apikey=c525df90\n",
      "http://www.omdbapi.com/?i=tt2402927&apikey=c525df90\n",
      "http://www.omdbapi.com/?i=tt0810819&apikey=c525df90\n",
      "http://www.omdbapi.com/?i=tt3722070&apikey=c525df90\n",
      "http://www.omdbapi.com/?i=tt2865120&apikey=c525df90\n",
      "http://www.omdbapi.com/?i=tt4062536&apikey=c525df90\n",
      "http://www.omdbapi.com/?i=tt3850544&apikey=c525df90\n",
      "http://www.omdbapi.com/?i=tt2140037&apikey=c525df90\n",
      "http://www.omdbapi.com/?i=tt4700756&apikey=c525df90\n"
     ]
    }
   ],
   "source": [
    "for i in range(0, len(all_wide)):\n",
    "    if pd.notnull(all_wide['RealimdbID'])[i]:\n",
    "        m= all_wide.iloc[i]['RealimdbID']\n",
    "        link = 'http://www.omdbapi.com/?i=' + m + '&apikey=c525df90'\n",
    "        print (link)\n",
    "        r = requests.get(link)\n",
    "        movie_json = json.loads(r.text)\n",
    "        \n",
    "        all_wide.at[i, 'Title'] = movie_json['Title']\n",
    "        all_wide.at[i, 'Year'] = movie_json['Year']\n",
    "        all_wide.at[i, 'imdbID'] = movie_json['imdbID']\n",
    "        all_wide.at[i, 'imdbRating'] = movie_json['imdbRating']\n",
    "        all_wide.at[i, 'imdbVotes'] = movie_json['imdbVotes']\n",
    "        all_wide.at[i, 'Type'] = movie_json['Type']\n",
    "        try:\n",
    "            all_wide.at[i, 'Website'] = movie_json['Website']\n",
    "        except: \n",
    "            all_wide.at[i, 'Website'] = ''\n",
    "        all_wide.at[i, 'Writer'] = movie_json['Writer'].replace(',','|')\n",
    "        all_wide.at[i, 'Runtime'] = movie_json['Runtime']\n",
    "        all_wide.at[i, 'Response'] = movie_json['Response']\n",
    "        all_wide.at[i, 'Released'] = movie_json['Released']\n",
    "        all_wide.at[i, 'Ratings'] = str(movie_json['Ratings']).replace(',','|')\n",
    "        all_wide.at[i, 'Rated'] =movie_json['Rated']\n",
    "        try:\n",
    "             all_wide.at[i, 'Production'] = movie_json['Production']\n",
    "        except:\n",
    "             all_wide.at[i, 'Production'] = ''\n",
    "        all_wide.at[i, 'Poster'] = movie_json['Poster']\n",
    "        all_wide.at[i, 'Plot'] = movie_json['Plot']\n",
    "        try:\n",
    "            all_wide.at[i, 'Metascore'] = movie_json['Metascore']\n",
    "        except:\n",
    "            pass\n",
    "        all_wide.at[i, 'Language'] = movie_json['Language']\n",
    "        all_wide.at[i, 'Genre'] = movie_json['Genre'].replace(',','|')\n",
    "        all_wide.at[i, 'Director'] = movie_json['Director'].replace(',','|')\n",
    "        try:\n",
    "            all_wide.at[i, 'DVD'] = movie_json['DVD']\n",
    "        except:\n",
    "            all_wide.at[i, 'DVD'] = ''\n",
    "        all_wide.at[i, 'Country'] = movie_json['Country']\n",
    "        try:\n",
    "            all_wide.at[i, 'BoxOffice'] = movie_json['BoxOffice']\n",
    "        except:\n",
    "            all_wide.at[i, 'BoxOffice'] = ''\n",
    "        all_wide.at[i, 'Awards'] = movie_json['Awards']\n",
    "        all_wide.at[i, 'Actors'] = movie_json['Actors'].replace(',','|')\n",
    "all_wide.drop(['RankinBoxOffice_x', 'TitleinBoxOffice_x','RankinBoxOffice_y','TitleinBoxOffice_y', 'RealimdbID'], axis=1, inplace=True)\n",
    "all_wide.to_csv('all_wide_'+ thisyear +'.csv')"
   ]
  },
  {
   "cell_type": "code",
   "execution_count": null,
   "metadata": {
    "collapsed": true
   },
   "outputs": [],
   "source": []
  }
 ],
 "metadata": {
  "kernelspec": {
   "display_name": "Python 3",
   "language": "python",
   "name": "python3"
  },
  "language_info": {
   "codemirror_mode": {
    "name": "ipython",
    "version": 3
   },
   "file_extension": ".py",
   "mimetype": "text/x-python",
   "name": "python",
   "nbconvert_exporter": "python",
   "pygments_lexer": "ipython3",
   "version": "3.6.1"
  },
  "toc": {
   "colors": {
    "hover_highlight": "#DAA520",
    "navigate_num": "#000000",
    "navigate_text": "#333333",
    "running_highlight": "#FF0000",
    "selected_highlight": "#FFD700",
    "sidebar_border": "#EEEEEE",
    "wrapper_background": "#FFFFFF"
   },
   "moveMenuLeft": true,
   "nav_menu": {
    "height": "12px",
    "width": "252px"
   },
   "navigate_menu": true,
   "number_sections": true,
   "sideBar": true,
   "threshold": 4,
   "toc_cell": false,
   "toc_section_display": "block",
   "toc_window_display": false,
   "widenNotebook": false
  }
 },
 "nbformat": 4,
 "nbformat_minor": 2
}
