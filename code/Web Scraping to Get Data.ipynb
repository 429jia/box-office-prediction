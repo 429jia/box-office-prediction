{
 "cells": [
  {
   "cell_type": "markdown",
   "metadata": {},
   "source": [
    "## Get Box Office From BoxOfficeMojo"
   ]
  },
  {
   "cell_type": "code",
   "execution_count": 1,
   "metadata": {
    "ExecuteTime": {
     "end_time": "2017-10-27T00:53:34.449638Z",
     "start_time": "2017-10-27T00:53:33.927125Z"
    },
    "collapsed": true
   },
   "outputs": [],
   "source": [
    "import requests\n",
    "from bs4 import BeautifulSoup\n",
    "import csv\n",
    "import time"
   ]
  },
  {
   "cell_type": "code",
   "execution_count": 2,
   "metadata": {
    "ExecuteTime": {
     "end_time": "2017-10-27T00:53:35.569907Z",
     "start_time": "2017-10-27T00:53:35.559222Z"
    },
    "collapsed": true
   },
   "outputs": [],
   "source": [
    "def get_movie(movie_list):\n",
    "    output_list = []\n",
    "    for movie in movie_list:\n",
    "        try:\n",
    "            rank = movie.contents[0].text\n",
    "            name = movie.contents[1].text\n",
    "            studio = movie.contents[2].text\n",
    "            total_gross = movie.contents[3].text.replace(',','').replace('$','')\n",
    "            total_thea = movie.contents[4].text.replace(',','')\n",
    "            open_gross = movie.contents[5].text.replace(',','').replace('$','')\n",
    "            open_thea = movie.contents[6].text.replace(',','')\n",
    "            open_date = movie.contents[7].text\n",
    "            close_date = movie.contents[8].text\n",
    "            output_list.append([rank, name, studio, total_gross, total_thea, open_gross, open_thea, open_date, close_date])\n",
    "        except:\n",
    "            pass\n",
    "    return output_list"
   ]
  },
  {
   "cell_type": "code",
   "execution_count": 3,
   "metadata": {
    "ExecuteTime": {
     "end_time": "2017-10-27T00:53:44.679572Z",
     "start_time": "2017-10-27T00:53:37.910377Z"
    }
   },
   "outputs": [
    {
     "name": "stdout",
     "output_type": "stream",
     "text": [
      "1\n",
      "2\n"
     ]
    }
   ],
   "source": [
    "year = '2016'\n",
    "link1 = 'http://www.boxofficemojo.com/yearly/chart/?page='\n",
    "link2 = '&view=widedate&view2=domestic&yr=' + year +'&p=.htm'\n",
    "\n",
    "headers = {'User-Agent' : 'Mozilla/5.0 (Windows; U; Windows NT 6.1; en-US; rv:1.9.1.6) Gecko/20091201 Firefox/3.5.6'} \n",
    "\n",
    "output_list = []\n",
    "output_list.append(['rank', 'name', 'studio', 'total_gross', 'total_thea', 'open_gross', 'open_thea', 'open_date', 'close_date'])\n",
    "with open('box' + year +'.csv', 'a+', encoding='UTF-8', newline='') as csvfile:\n",
    "    w = csv.writer(csvfile)\n",
    "    w.writerows(output_list) \n",
    "    \n",
    "for i in range(1,3):\n",
    "    print (i)\n",
    "    output_list = []\n",
    "    link = link1 + str(i) + link2\n",
    "    r = requests.get(link, headers=headers)\n",
    "    soup = BeautifulSoup(r.text, 'lxml')\n",
    "    movie_list1 = soup.find_all('tr', attrs={\"bgcolor\": \"#ffffff\"})\n",
    "    movie_list2 = soup.find_all('tr', attrs={\"bgcolor\": \"#f4f4ff\"})\n",
    "    \n",
    "    output_list = output_list + get_movie(movie_list1)\n",
    "    output_list = output_list + get_movie(movie_list2)\n",
    "    with open('box' + year +'.csv', 'a+', encoding='UTF-8', newline='') as csvfile:\n",
    "        w = csv.writer(csvfile)\n",
    "        w.writerows(output_list)\n",
    "    time.sleep(3)"
   ]
  },
  {
   "cell_type": "markdown",
   "metadata": {
    "ExecuteTime": {
     "end_time": "2017-10-19T01:31:03.942830Z",
     "start_time": "2017-10-19T01:31:03.940056Z"
    }
   },
   "source": [
    "## Get Info of movie from IMDB"
   ]
  },
  {
   "cell_type": "code",
   "execution_count": 76,
   "metadata": {
    "ExecuteTime": {
     "end_time": "2017-10-27T03:50:20.330032Z",
     "start_time": "2017-10-27T03:50:20.326595Z"
    },
    "collapsed": true
   },
   "outputs": [],
   "source": [
    "import pandas as pd\n",
    "import json\n",
    "import time"
   ]
  },
  {
   "cell_type": "code",
   "execution_count": 77,
   "metadata": {
    "ExecuteTime": {
     "end_time": "2017-10-27T03:50:20.741100Z",
     "start_time": "2017-10-27T03:50:20.738158Z"
    },
    "collapsed": true
   },
   "outputs": [],
   "source": [
    "thisyear = '2009'"
   ]
  },
  {
   "cell_type": "code",
   "execution_count": 78,
   "metadata": {
    "ExecuteTime": {
     "end_time": "2017-10-27T03:50:21.184242Z",
     "start_time": "2017-10-27T03:50:21.173528Z"
    },
    "collapsed": true
   },
   "outputs": [],
   "source": [
    "movie = pd.read_csv('box' + thisyear +'.csv')\n",
    "name = movie['name']\n",
    "rank = movie['rank']"
   ]
  },
  {
   "cell_type": "code",
   "execution_count": 79,
   "metadata": {
    "ExecuteTime": {
     "end_time": "2017-10-27T03:50:21.734348Z",
     "start_time": "2017-10-27T03:50:21.726955Z"
    },
    "collapsed": true
   },
   "outputs": [],
   "source": [
    "movie_desc = []\n",
    "movie_desc.append(['RankinBoxOffice','TitleinBoxOffice','Title', 'Year', 'imdbID', 'imdbRating', 'imdbVotes', 'Type', 'Website', 'Writer', 'Runtime', \n",
    "                  'Response', 'Released', 'Ratings', 'Rated', 'Production', 'Poster', 'Plot', 'Metascore', 'Language', 'Genre', \n",
    "                   'Director', 'DVD', 'Country', 'BoxOffice', 'Awards', 'Actors'])\n",
    "with open('IMDB' + thisyear +'.csv', 'a+', encoding='UTF-8', newline='') as csvfile:\n",
    "        w = csv.writer(csvfile)\n",
    "        w.writerows(movie_desc)"
   ]
  },
  {
   "cell_type": "code",
   "execution_count": 80,
   "metadata": {
    "ExecuteTime": {
     "end_time": "2017-10-27T03:50:29.224421Z",
     "start_time": "2017-10-27T03:50:22.511372Z"
    },
    "scrolled": true
   },
   "outputs": [
    {
     "name": "stdout",
     "output_type": "stream",
     "text": [
      "Avatar\n",
      "Harry Potter and the Half-Blood Prince\n",
      "Up\n",
      "Star Trek\n",
      "Alvin and the Chipmunks: The Squeakquel\n",
      "Error @@@@@ Monsters Vs. Aliens\n",
      "X-Men Origins: Wolverine\n",
      "2012\n",
      "Error @@@@@ Fast and Furious\n",
      "Gran Torino\n",
      "Taken\n",
      "Angels & Demons\n",
      "Cloudy with a Chance of Meatballs\n",
      "G-Force\n",
      "It's Complicated\n",
      "Error @@@@@ Paranormal Activity\n",
      "The Princess and the Frog\n",
      "Julie & Julia\n",
      "Error @@@@@ Tyler Perry's Madea Goes to Jail\n",
      "Up in the Air\n",
      "Hannah Montana The Movie\n",
      "Zombieland\n",
      "Law Abiding Citizen\n",
      "Error @@@@@ Michael Jackson's This Is It\n",
      "Obsessed\n",
      "The Final Destination\n",
      "Friday the 13th (2009)\n",
      "The Time Traveler's Wife\n",
      "Bride Wars\n",
      "Ghosts of Girlfriends Past\n",
      "Error @@@@@ Tyler Perry's I Can Do Bad All By Myself\n",
      "Old Dogs\n",
      "My Sister's Keeper\n",
      "Underworld: Rise of the Lycans\n",
      "Year One\n",
      "Planet 51\n",
      "Orphan\n",
      "Surrogates\n",
      "Invictus\n",
      "Notorious (2009)\n",
      "Error @@@@@ The Reader\n",
      "Halloween II (2009)\n",
      "The Last House on the Left (2009)\n",
      "(500) Days of Summer\n",
      "Milk\n",
      "9\n",
      "Error @@@@@ Toy Story / Toy Story 2 (3D)\n",
      "The Stepfather (2009)\n",
      "The Uninvited\n",
      "Saw VI\n",
      "Transformers: Revenge of the Fallen\n",
      "The Twilight Saga: New Moon\n",
      "The Hangover\n",
      "The Blind Side\n",
      "Sherlock Holmes\n",
      "Ice Age: Dawn of the Dinosaurs\n",
      "Night at the Museum: Battle of the Smithsonian\n",
      "The Proposal\n",
      "G.I. Joe: The Rise of Cobra\n",
      "Paul Blart: Mall Cop\n",
      "A Christmas Carol (2009)\n",
      "Terminator Salvation\n",
      "Inglourious Basterds\n",
      "District 9\n",
      "Couples Retreat\n",
      "Watchmen\n",
      "Public Enemies\n",
      "He's Just Not That Into You\n",
      "The Ugly Truth\n",
      "Knowing\n",
      "Where the Wild Things Are\n",
      "Coraline\n",
      "Hotel for Dogs\n",
      "I Love You, Man\n",
      "Race to Witch Mountain\n",
      "Error @@@@@ The Taking of Pelham 1 2 3\n",
      "17 Again\n",
      "Bruno\n",
      "The Haunting in Connecticut\n",
      "Funny People\n",
      "Error @@@@@ My Bloody Valentine 3-D\n",
      "Land of the Lost\n",
      "Error @@@@@ Precious: Based on the Novel \"Push\" by Sapphire\n",
      "Confessions of a Shopaholic\n",
      "The Unborn (2009)\n",
      "Drag Me to Hell\n",
      "Duplicity\n",
      "Ninja Assassin\n",
      "State of Play\n",
      "The Pink Panther 2\n",
      "All About Steve\n",
      "The Informant!\n",
      "The Men Who Stare at Goats\n",
      "Earth (2009)\n",
      "Push\n",
      "The Soloist\n",
      "Did You Hear About the Morgans?\n",
      "Defiance\n",
      "Brothers\n",
      "The Wrestler\n",
      "Dance Flick\n",
      "The International\n",
      "Observe and Report\n",
      "Love Happens\n",
      "Fame (2009)\n",
      "Shorts\n",
      "Nine\n",
      "Jonas Brothers: The 3D Concert Experience\n",
      "The Invention of Lying\n",
      "Fired Up\n",
      "Jennifer's Body\n",
      "Adventureland\n",
      "A Perfect Getaway\n",
      "Error @@@@@ Ponyo\n",
      "Last Chance Harvey\n",
      "Capitalism: A Love Story\n",
      "Cirque du Freak: The Vampire's Assistant\n",
      "Whip It\n",
      "Sunshine Cleaning\n",
      "Extract\n",
      "Pandorum\n",
      "Next Day Air\n",
      "Everybody's Fine\n",
      "My Life in Ruins\n",
      "The Collector\n",
      "Post Grad\n",
      "Miss March\n",
      "X Games 3D The Movie\n",
      "The Fourth Kind\n",
      "Aliens in the Attic\n",
      "Fighting\n",
      "Revolutionary Road\n",
      "Fantastic Mr. Fox\n",
      "Gamer\n",
      "Astro Boy\n",
      "Frost/Nixon\n",
      "Error @@@@@ Inkheart\n",
      "New in Town\n",
      "Imagine That\n",
      "Armored\n",
      "The Goods: Live Hard, Sell Hard\n",
      "The Box\n",
      "I Love You Beth Cooper\n",
      "Amelia\n",
      "Crank: High Voltage\n",
      "12 Rounds\n",
      "Sorority Row\n",
      "Not Easily Broken\n",
      "Whiteout\n",
      "Dragonball Evolution\n",
      "Street Fighter: The Legend of Chun-Li\n",
      "Pirate Radio\n",
      "Taking Woodstock\n",
      "Bandslam\n",
      "Error @@@@@ Battle for Terra\n",
      "Transylmania\n"
     ]
    }
   ],
   "source": [
    "for i in range(0, len(name)):\n",
    "    RankinBoxOffice = rank[i]\n",
    "    TitleinBoxOffice = name[i]\n",
    "    m = TitleinBoxOffice.replace(' (2009)','').replace(' ', '+')\n",
    "    link = 'http://www.omdbapi.com/?t=' + m + '&y='+ thisyear +'&apikey=c525df90'\n",
    "    r = requests.get(link)\n",
    "    movie_json = json.loads(r.text)\n",
    "    try:\n",
    "        Title = movie_json['Title']\n",
    "        Year = movie_json['Year']\n",
    "        imdbID = movie_json['imdbID']\n",
    "        imdbRating = movie_json['imdbRating']\n",
    "        imdbVotes = movie_json['imdbVotes']\n",
    "        Type = movie_json['Type']\n",
    "        try:\n",
    "            Website = movie_json['Website']\n",
    "        except: \n",
    "            Websit = ''\n",
    "        Writer = movie_json['Writer'].replace(',','|')\n",
    "        Runtime = movie_json['Runtime']\n",
    "        Response = movie_json['Response']\n",
    "        Released = movie_json['Released']\n",
    "        Ratings = str(movie_json['Ratings']).replace(',','|')\n",
    "        Rated =movie_json['Rated']\n",
    "        try:\n",
    "            Production = movie_json['Production']\n",
    "        except:\n",
    "            Production = ''\n",
    "        Poster = movie_json['Poster']\n",
    "        Plot = movie_json['Plot']\n",
    "        Metascore = movie_json['Metascore']\n",
    "        Language = movie_json['Language']\n",
    "        Genre = movie_json['Genre'].replace(',','|')\n",
    "        Director = movie_json['Director'].replace(',','|')\n",
    "        try:\n",
    "            DVD = movie_json['DVD']\n",
    "        except:\n",
    "            DVD = ''\n",
    "        Country = movie_json['Country']\n",
    "        try:\n",
    "            BoxOffice = movie_json['BoxOffice']\n",
    "        except:\n",
    "            BoxOffice = ''\n",
    "        Awards = movie_json['Awards']\n",
    "        Actors = movie_json['Actors'].replace(',','|')\n",
    "        movie_desc = [RankinBoxOffice, TitleinBoxOffice, Title, Year, imdbID, imdbRating, imdbVotes, Type, Website, Writer, Runtime, \n",
    "                      Response, Released, Ratings, Rated, Production, Poster, Plot, Metascore, Language, Genre, Director, DVD, Country,\n",
    "                     BoxOffice, Awards, Actors]\n",
    "        print (TitleinBoxOffice)\n",
    "    except:\n",
    "        error = movie_json['Error']\n",
    "        movie_desc = [RankinBoxOffice, TitleinBoxOffice, 'error']\n",
    "        print ('Error @@@@@', TitleinBoxOffice)\n",
    "        \n",
    "    with open('IMDB' + thisyear +'.csv', 'a+', encoding='UTF-8', newline='') as csvfile:\n",
    "        w = csv.writer(csvfile)\n",
    "        w.writerow(movie_desc)"
   ]
  },
  {
   "cell_type": "markdown",
   "metadata": {},
   "source": [
    "## Print out wrong match movies"
   ]
  },
  {
   "cell_type": "code",
   "execution_count": 81,
   "metadata": {
    "ExecuteTime": {
     "end_time": "2017-10-27T03:50:48.105837Z",
     "start_time": "2017-10-27T03:50:48.095481Z"
    },
    "collapsed": true
   },
   "outputs": [],
   "source": [
    "thisyear = '2009'\n",
    "df = pd.read_csv('IMDB' + thisyear +'.csv')"
   ]
  },
  {
   "cell_type": "code",
   "execution_count": 82,
   "metadata": {
    "ExecuteTime": {
     "end_time": "2017-10-27T03:50:48.952404Z",
     "start_time": "2017-10-27T03:50:48.947118Z"
    },
    "collapsed": true
   },
   "outputs": [],
   "source": [
    "df_not_match = df[~(df['TitleinBoxOffice'].str.lower() == df['Title'].str.lower())]"
   ]
  },
  {
   "cell_type": "code",
   "execution_count": 83,
   "metadata": {
    "ExecuteTime": {
     "end_time": "2017-10-27T03:50:50.020129Z",
     "start_time": "2017-10-27T03:50:50.015601Z"
    },
    "collapsed": true
   },
   "outputs": [],
   "source": [
    "df_nomatch_noyear = df_not_match[~df_not_match['TitleinBoxOffice'].str.contains('\\(' + thisyear +'\\)')]"
   ]
  },
  {
   "cell_type": "code",
   "execution_count": 84,
   "metadata": {
    "ExecuteTime": {
     "end_time": "2017-10-27T03:50:50.509022Z",
     "start_time": "2017-10-27T03:50:50.503390Z"
    },
    "collapsed": true
   },
   "outputs": [],
   "source": [
    "df_nomatch_year = df_not_match[df_not_match['TitleinBoxOffice'].str.contains('\\(' + thisyear +'\\)')]\n",
    "df_nomatch_year = df_nomatch_year[df_nomatch_year['Title'] == 'error']"
   ]
  },
  {
   "cell_type": "code",
   "execution_count": 85,
   "metadata": {
    "ExecuteTime": {
     "end_time": "2017-10-27T03:50:51.430954Z",
     "start_time": "2017-10-27T03:50:51.423546Z"
    },
    "collapsed": true
   },
   "outputs": [],
   "source": [
    "df_out = df_nomatch_noyear.append(df_nomatch_year)"
   ]
  },
  {
   "cell_type": "code",
   "execution_count": 86,
   "metadata": {
    "ExecuteTime": {
     "end_time": "2017-10-27T03:50:52.285944Z",
     "start_time": "2017-10-27T03:50:52.279786Z"
    },
    "collapsed": true
   },
   "outputs": [],
   "source": [
    "df_out.to_csv('error' + thisyear +'.csv')"
   ]
  },
  {
   "cell_type": "markdown",
   "metadata": {
    "collapsed": true
   },
   "source": [
    "## Get the critics from Metacritics"
   ]
  },
  {
   "cell_type": "code",
   "execution_count": 15,
   "metadata": {
    "ExecuteTime": {
     "end_time": "2017-10-27T01:06:55.868722Z",
     "start_time": "2017-10-27T01:06:55.864548Z"
    },
    "collapsed": true
   },
   "outputs": [],
   "source": [
    "import requests\n",
    "from bs4 import BeautifulSoup\n",
    "import re\n",
    "import pandas as pd\n",
    "import csv\n",
    "import time"
   ]
  },
  {
   "cell_type": "code",
   "execution_count": 16,
   "metadata": {
    "ExecuteTime": {
     "end_time": "2017-10-27T01:06:56.421317Z",
     "start_time": "2017-10-27T01:06:56.407164Z"
    },
    "collapsed": true
   },
   "outputs": [],
   "source": [
    "thisyear = '2016'\n",
    "df = pd.read_csv('box' + thisyear +'.csv')"
   ]
  },
  {
   "cell_type": "code",
   "execution_count": 17,
   "metadata": {
    "ExecuteTime": {
     "end_time": "2017-10-27T01:06:56.973940Z",
     "start_time": "2017-10-27T01:06:56.967445Z"
    },
    "collapsed": true
   },
   "outputs": [],
   "source": [
    "names = df['name'].str.replace('\\(.*\\)','').str.replace(r'[\\.\\':,\\?]','').str.replace('& ','').str.replace('- ','')\n",
    "link1 = 'http://www.metacritic.com/movie/'\n",
    "link2 = '/critic-reviews'"
   ]
  },
  {
   "cell_type": "code",
   "execution_count": 18,
   "metadata": {
    "ExecuteTime": {
     "end_time": "2017-10-27T01:06:57.485591Z",
     "start_time": "2017-10-27T01:06:57.479263Z"
    },
    "collapsed": true
   },
   "outputs": [],
   "source": [
    "output_list = ['rank', 'moviename', 'meta_movie_name', 'release_date', 'total_score', 'num_crit', 'positive', 'mixed', 'negative',\n",
    "                              'iscore', 'source', 'source_link', 'author', 'author_link', 'date', 'summary']\n",
    "with open('mc' + thisyear +'.csv', 'a+', encoding='UTF-8', newline='') as csvfile:\n",
    "        w = csv.writer(csvfile)\n",
    "        w.writerow(output_list)"
   ]
  },
  {
   "cell_type": "code",
   "execution_count": 19,
   "metadata": {
    "ExecuteTime": {
     "end_time": "2017-10-27T01:17:08.422936Z",
     "start_time": "2017-10-27T01:06:58.169803Z"
    }
   },
   "outputs": [
    {
     "name": "stdout",
     "output_type": "stream",
     "text": [
      "Rogue One: A Star Wars Story ^^^^^ rogue one a star wars story\n",
      "METANAME @@@@  Rogue One: A Star Wars Story\n",
      "Captain America: Civil War ^^^^^ captain america civil war\n",
      "METANAME @@@@  Captain America: Civil War\n",
      "The Jungle Book (2016) ^^^^^ the jungle book\n",
      "ERROR %%%  the jungle book\n",
      "Zootopia ^^^^^ zootopia\n",
      "METANAME @@@@  Zootopia\n",
      "Suicide Squad ^^^^^ suicide squad\n",
      "METANAME @@@@  Suicide Squad\n",
      "Moana ^^^^^ moana\n",
      "METANAME @@@@  Moana\n",
      "Doctor Strange ^^^^^ doctor strange\n",
      "METANAME @@@@  Doctor Strange\n",
      "Jason Bourne ^^^^^ jason bourne\n",
      "METANAME @@@@  Jason Bourne\n",
      "X-Men: Apocalypse ^^^^^ x-men apocalypse\n",
      "METANAME @@@@  X-Men: Apocalypse\n",
      "La La Land ^^^^^ la la land\n",
      "METANAME @@@@  La La Land\n",
      "Ghostbusters (2016) ^^^^^ ghostbusters\n",
      "METANAME @@@@  Ghostbusters\n",
      "The Legend of Tarzan ^^^^^ the legend of tarzan\n",
      "METANAME @@@@  The Legend of Tarzan\n",
      "Bad Moms ^^^^^ bad moms\n",
      "METANAME @@@@  Bad Moms\n",
      "Independence Day: Resurgence ^^^^^ independence day resurgence\n",
      "METANAME @@@@  Independence Day: Resurgence\n",
      "Arrival ^^^^^ arrival\n",
      "METANAME @@@@  Arrival\n",
      "Sausage Party ^^^^^ sausage party\n",
      "METANAME @@@@  Sausage Party\n",
      "Ride Along 2 ^^^^^ ride along 2\n",
      "METANAME @@@@  Ride Along 2\n",
      "Miss Peregrine's Home for Peculiar Children ^^^^^ miss peregrines home for peculiar children\n",
      "METANAME @@@@  Miss Peregrine's Home for Peculiar Children\n",
      "Teenage Mutant Ninja Turtles: Out of the Shadows ^^^^^ teenage mutant ninja turtles out of the shadows\n",
      "ERROR %%%  teenage mutant ninja turtles out of the shadows\n",
      "Alice Through the Looking Glass ^^^^^ alice through the looking glass\n",
      "METANAME @@@@  Alice Through the Looking Glass\n",
      "The Girl on the Train (2016) ^^^^^ the girl on the train\n",
      "METANAME @@@@  The Girl on the Train\n",
      "Storks ^^^^^ storks\n",
      "METANAME @@@@  Storks\n",
      "Lights Out ^^^^^ lights out\n",
      "METANAME @@@@  Lights Out\n",
      "The Divergent Series: Allegiant ^^^^^ the divergent series allegiant\n",
      "METANAME @@@@  The Divergent Series: Allegiant\n",
      "Ice Age: Collision Course ^^^^^ ice age collision course\n",
      "METANAME @@@@  Ice Age: Collision Course\n",
      "London Has Fallen ^^^^^ london has fallen\n",
      "METANAME @@@@  London Has Fallen\n",
      "Deepwater Horizon ^^^^^ deepwater horizon\n",
      "METANAME @@@@  Deepwater Horizon\n",
      "My Big Fat Greek Wedding 2 ^^^^^ my big fat greek wedding 2\n",
      "METANAME @@@@  My Big Fat Greek Wedding 2\n",
      "Fences ^^^^^ fences\n",
      "METANAME @@@@  Fences\n",
      "The BFG ^^^^^ the bfg\n",
      "METANAME @@@@  The BFG\n",
      "The Shallows ^^^^^ the shallows\n",
      "METANAME @@@@  The Shallows\n",
      "Assassin's Creed ^^^^^ assassins creed\n",
      "METANAME @@@@  Assassin's Creed\n",
      "13 Hours: The Secret Soldiers of Benghazi ^^^^^ 13 hours the secret soldiers of benghazi\n",
      "METANAME @@@@  13 Hours: The Secret Soldiers of Benghazi\n",
      "Kubo and the Two Strings ^^^^^ kubo and the two strings\n",
      "METANAME @@@@  Kubo and the Two Strings\n",
      "Warcraft ^^^^^ warcraft\n",
      "METANAME @@@@  Warcraft\n",
      "Mike and Dave Need Wedding Dates ^^^^^ mike and dave need wedding dates\n",
      "ERROR %%%  mike and dave need wedding dates\n",
      "Almost Christmas ^^^^^ almost christmas\n",
      "METANAME @@@@  Almost Christmas\n",
      "Allied ^^^^^ allied\n",
      "METANAME @@@@  Allied\n",
      "Risen ^^^^^ risen\n",
      "METANAME @@@@  Risen\n",
      "The Boy (2016) ^^^^^ the boy\n",
      "METANAME @@@@  The Boy\n",
      "Ouija: Origin of Evil ^^^^^ ouija origin of evil\n",
      "METANAME @@@@  Ouija: Origin of Evil\n",
      "Inferno ^^^^^ inferno\n",
      "METANAME @@@@  Inferno\n",
      "Gods of Egypt ^^^^^ gods of egypt\n",
      "METANAME @@@@  Gods of Egypt\n",
      "Hail, Caesar! ^^^^^ hail caesar!\n",
      "METANAME @@@@  Hail, Caesar!\n",
      "Zoolander 2 ^^^^^ zoolander 2\n",
      "METANAME @@@@  Zoolander 2\n",
      "The Finest Hours ^^^^^ the finest hours\n",
      "METANAME @@@@  The Finest Hours\n",
      "Hell or High Water ^^^^^ hell or high water\n",
      "METANAME @@@@  Hell or High Water\n",
      "Ben-Hur (2016) ^^^^^ ben-hur\n",
      "METANAME @@@@  Ben-Hur\n",
      "Bridget Jones's Baby ^^^^^ bridget joness baby\n",
      "METANAME @@@@  Bridget Jones's Baby\n",
      "Whiskey Tango Foxtrot ^^^^^ whiskey tango foxtrot\n",
      "METANAME @@@@  Whiskey Tango Foxtrot\n",
      "Finding Dory ^^^^^ finding dory\n",
      "METANAME @@@@  Finding Dory\n",
      "The Secret Life of Pets ^^^^^ the secret life of pets\n",
      "METANAME @@@@  The Secret Life of Pets\n",
      "Deadpool ^^^^^ deadpool\n",
      "METANAME @@@@  Deadpool\n",
      "Batman v Superman: Dawn of Justice ^^^^^ batman v superman dawn of justice\n",
      "METANAME @@@@  Batman v Superman: Dawn of Justice\n",
      "Sing ^^^^^ sing\n",
      "METANAME @@@@  Sing\n",
      "Fantastic Beasts and Where To Find Them ^^^^^ fantastic beasts and where to find them\n",
      "METANAME @@@@  Fantastic Beasts and Where to Find Them\n",
      "The Revenant ^^^^^ the revenant\n",
      "METANAME @@@@  The Revenant\n",
      "Star Trek Beyond ^^^^^ star trek beyond\n",
      "METANAME @@@@  Star Trek Beyond\n",
      "Trolls ^^^^^ trolls\n",
      "METANAME @@@@  Trolls\n",
      "Kung Fu Panda 3 ^^^^^ kung fu panda 3\n",
      "METANAME @@@@  Kung Fu Panda 3\n",
      "Central Intelligence ^^^^^ central intelligence\n",
      "METANAME @@@@  Central Intelligence\n",
      "Sully ^^^^^ sully\n",
      "METANAME @@@@  Sully\n",
      "The Angry Birds Movie ^^^^^ the angry birds movie\n",
      "METANAME @@@@  The Angry Birds Movie\n",
      "The Conjuring 2 ^^^^^ the conjuring 2\n",
      "METANAME @@@@  The Conjuring 2\n",
      "Passengers (2016) ^^^^^ passengers\n",
      "METANAME @@@@  Passengers\n",
      "The Magnificent Seven (2016) ^^^^^ the magnificent seven\n",
      "METANAME @@@@  The Magnificent Seven\n",
      "Don't Breathe ^^^^^ dont breathe\n",
      "METANAME @@@@  Don't Breathe\n",
      "The Accountant ^^^^^ the accountant\n",
      "METANAME @@@@  The Accountant\n",
      "The Purge: Election Year ^^^^^ the purge election year\n",
      "METANAME @@@@  The Purge: Election Year\n",
      "Pete's Dragon (2016) ^^^^^ petes dragon\n",
      "METANAME @@@@  Pete's Dragon\n",
      "Boo! A Madea Halloween ^^^^^ boo! a madea halloween\n",
      "METANAME @@@@  Boo! A Madea Halloween\n",
      "10 Cloverfield Lane ^^^^^ 10 cloverfield lane\n",
      "METANAME @@@@  10 Cloverfield Lane\n",
      "Hacksaw Ridge ^^^^^ hacksaw ridge\n",
      "METANAME @@@@  Hacksaw Ridge\n",
      "Now You See Me 2 ^^^^^ now you see me 2\n",
      "METANAME @@@@  Now You See Me 2\n",
      "The Boss ^^^^^ the boss\n",
      "METANAME @@@@  The Boss\n",
      "Miracles from Heaven ^^^^^ miracles from heaven\n",
      "METANAME @@@@  Miracles from Heaven\n",
      "Why Him? ^^^^^ why him\n",
      "METANAME @@@@  Why Him?\n",
      "Jack Reacher: Never Go Back ^^^^^ jack reacher never go back\n",
      "METANAME @@@@  Jack Reacher: Never Go Back\n",
      "Me Before You ^^^^^ me before you\n",
      "METANAME @@@@  Me Before You\n",
      "Neighbors 2: Sorority Rising ^^^^^ neighbors 2 sorority rising\n",
      "METANAME @@@@  Neighbors 2: Sorority Rising\n",
      "Office Christmas Party ^^^^^ office christmas party\n",
      "METANAME @@@@  Office Christmas Party\n",
      "Barbershop: The Next Cut ^^^^^ barbershop the next cut\n",
      "METANAME @@@@  Barbershop: The Next Cut\n",
      "The Huntsman: Winter's War ^^^^^ the huntsman winters war\n",
      "METANAME @@@@  The Huntsman: Winter's War\n",
      "Manchester by the Sea ^^^^^ manchester by the sea\n",
      "METANAME @@@@  Manchester by the Sea\n",
      "How to Be Single ^^^^^ how to be single\n",
      "METANAME @@@@  How to Be Single\n",
      "War Dogs ^^^^^ war dogs\n",
      "METANAME @@@@  War Dogs\n",
      "Money Monster ^^^^^ money monster\n",
      "METANAME @@@@  Money Monster\n",
      "Nerve ^^^^^ nerve\n",
      "METANAME @@@@  Nerve\n",
      "The Nice Guys ^^^^^ the nice guys\n",
      "METANAME @@@@  The Nice Guys\n",
      "Dirty Grandpa ^^^^^ dirty grandpa\n",
      "METANAME @@@@  Dirty Grandpa\n",
      "The 5th Wave ^^^^^ the 5th wave\n",
      "METANAME @@@@  The 5th Wave\n",
      "Mother's Day ^^^^^ mothers day\n",
      "METANAME @@@@  Mother's Day\n",
      "Collateral Beauty ^^^^^ collateral beauty\n",
      "METANAME @@@@  Collateral Beauty\n",
      "When the Bough Breaks ^^^^^ when the bough breaks\n",
      "METANAME @@@@  When the Bough Breaks\n",
      "Moonlight (2016) ^^^^^ moonlight\n",
      "METANAME @@@@  Moonlight\n",
      "Florence Foster Jenkins ^^^^^ florence foster jenkins\n",
      "METANAME @@@@  Florence Foster Jenkins\n",
      "The Forest ^^^^^ the forest\n",
      "METANAME @@@@  The Forest\n",
      "The Witch ^^^^^ the witch\n",
      "METANAME @@@@  The Witch\n",
      "Kevin Hart: What Now? ^^^^^ kevin hart what now\n",
      "METANAME @@@@  Kevin Hart: What Now?\n",
      "Snowden ^^^^^ snowden\n",
      "METANAME @@@@  Snowden\n",
      "Mechanic: Resurrection ^^^^^ mechanic resurrection\n",
      "METANAME @@@@  Mechanic: Resurrection\n",
      "Blair Witch ^^^^^ blair witch\n",
      "METANAME @@@@  Blair Witch\n",
      "Keanu ^^^^^ keanu\n",
      "METANAME @@@@  Keanu\n",
      "Nine Lives (2016) ^^^^^ nine lives\n",
      "METANAME @@@@  Nine Lives\n",
      "The Choice ^^^^^ the choice\n",
      "METANAME @@@@  The Choice\n",
      "Bad Santa 2 ^^^^^ bad santa 2\n",
      "METANAME @@@@  Bad Santa 2\n",
      "Norm of the North ^^^^^ norm of the north\n",
      "METANAME @@@@  Norm of the North\n",
      "Eddie the Eagle ^^^^^ eddie the eagle\n",
      "METANAME @@@@  Eddie the Eagle\n",
      "Keeping Up with the Joneses ^^^^^ keeping up with the joneses\n",
      "METANAME @@@@  Keeping Up with the Joneses\n",
      "Room ^^^^^ room\n",
      "METANAME @@@@  Room\n",
      "The Edge of Seventeen ^^^^^ the edge of seventeen\n",
      "METANAME @@@@  The Edge of Seventeen\n",
      "Hillary's America: The Secret History of the Democratic Party ^^^^^ hillarys america the secret history of the democratic party\n"
     ]
    },
    {
     "name": "stdout",
     "output_type": "stream",
     "text": [
      "METANAME @@@@  Hillary's America: The Secret History of the Democratic Party\n",
      "Triple 9 ^^^^^ triple 9\n",
      "METANAME @@@@  Triple 9\n",
      "Fifty Shades of Black ^^^^^ fifty shades of black\n",
      "METANAME @@@@  Fifty Shades of Black\n",
      "Pride and Prejudice and Zombies ^^^^^ pride and prejudice and zombies\n",
      "METANAME @@@@  Pride and Prejudice and Zombies\n",
      "Nocturnal Animals ^^^^^ nocturnal animals\n",
      "METANAME @@@@  Nocturnal Animals\n",
      "The Perfect Match ^^^^^ the perfect match\n",
      "METANAME @@@@  The Perfect Match\n",
      "Hardcore Henry ^^^^^ hardcore henry\n",
      "METANAME @@@@  Hardcore Henry\n",
      "Queen of Katwe ^^^^^ queen of katwe\n",
      "METANAME @@@@  Queen of Katwe\n",
      "The Wild Life (2016) ^^^^^ the wild life\n",
      "METANAME @@@@  The Wild Life\n",
      "The Brothers Grimsby ^^^^^ the brothers grimsby\n",
      "METANAME @@@@  The Brothers Grimsby\n",
      "Southside with You ^^^^^ southside with you\n",
      "METANAME @@@@  Southside with You\n",
      "Incarnate ^^^^^ incarnate\n",
      "METANAME @@@@  Incarnate\n",
      "Swiss Army Man ^^^^^ swiss army man\n",
      "METANAME @@@@  Swiss Army Man\n",
      "Morgan ^^^^^ morgan\n",
      "METANAME @@@@  Morgan\n",
      "Batman: The Killing Joke ^^^^^ batman the killing joke\n",
      "METANAME @@@@  Batman: The Killing Joke\n",
      "Miss Sloane ^^^^^ miss sloane\n",
      "METANAME @@@@  Miss Sloane\n",
      "The Disappointments Room ^^^^^ the disappointments room\n",
      "METANAME @@@@  The Disappointments Room\n",
      "Demolition ^^^^^ demolition\n",
      "METANAME @@@@  Demolition\n",
      "I Saw the Light ^^^^^ i saw the light\n",
      "METANAME @@@@  I Saw the Light\n",
      "The Neon Demon ^^^^^ the neon demon\n",
      "METANAME @@@@  The Neon Demon\n",
      "The Bronze ^^^^^ the bronze\n",
      "METANAME @@@@  The Bronze\n",
      "Free State of Jones ^^^^^ free state of jones\n",
      "METANAME @@@@  Free State of Jones\n",
      "God's Not Dead 2 ^^^^^ gods not dead 2\n",
      "METANAME @@@@  God's Not Dead 2\n",
      "Middle School: The Worst Years of My Life ^^^^^ middle school the worst years of my life\n",
      "METANAME @@@@  Middle School: The Worst Years of My Life\n",
      "Race (2016) ^^^^^ race\n",
      "METANAME @@@@  Race\n",
      "Eye in the Sky ^^^^^ eye in the sky\n",
      "METANAME @@@@  Eye in the Sky\n",
      "Masterminds (2016) ^^^^^ masterminds\n",
      "METANAME @@@@  Masterminds\n",
      "The Birth of a Nation ^^^^^ the birth of a nation\n",
      "METANAME @@@@  The Birth of a Nation\n",
      "The Infiltrator ^^^^^ the infiltrator\n",
      "METANAME @@@@  The Infiltrator\n",
      "Criminal (2016) ^^^^^ criminal\n",
      "METANAME @@@@  Criminal\n",
      "Hello, My Name is Doris ^^^^^ hello my name is doris\n",
      "METANAME @@@@  Hello, My Name Is Doris\n",
      "Love & Friendship ^^^^^ love friendship\n",
      "METANAME @@@@  Love & Friendship\n",
      "Carol ^^^^^ carol\n",
      "METANAME @@@@  Carol\n",
      "The Light Between Oceans ^^^^^ the light between oceans\n",
      "METANAME @@@@  The Light Between Oceans\n",
      "The Danish Girl ^^^^^ the danish girl\n",
      "METANAME @@@@  The Danish Girl\n",
      "The Darkness ^^^^^ the darkness\n",
      "METANAME @@@@  The Darkness\n",
      "The Lady in the Van ^^^^^ the lady in the van\n",
      "METANAME @@@@  The Lady in the Van\n",
      "Popstar: Never Stop Never Stopping ^^^^^ popstar never stop never stopping\n",
      "METANAME @@@@  Popstar: Never Stop Never Stopping\n",
      "Meet the Blacks ^^^^^ meet the blacks\n",
      "METANAME @@@@  Meet the Blacks\n",
      "Ratchet & Clank ^^^^^ ratchet clank\n",
      "METANAME @@@@  Ratchet & Clank\n",
      "Shut In ^^^^^ shut in\n",
      "METANAME @@@@  Shut In\n",
      "The Young Messiah ^^^^^ the young messiah\n",
      "METANAME @@@@  The Young Messiah\n",
      "Bleed for This ^^^^^ bleed for this\n",
      "METANAME @@@@  Bleed for This\n",
      "Hands of Stone ^^^^^ hands of stone\n",
      "METANAME @@@@  Hands of Stone\n",
      "Denial ^^^^^ denial\n",
      "METANAME @@@@  Denial\n",
      "Max Steel ^^^^^ max steel\n",
      "METANAME @@@@  Max Steel\n",
      "Rules Don't Apply ^^^^^ rules dont apply\n",
      "METANAME @@@@  Rules Don't Apply\n",
      "Green Room ^^^^^ green room\n",
      "METANAME @@@@  Green Room\n",
      "Hillsong - Let Hope Rise ^^^^^ hillsong let hope rise\n",
      "ERROR %%%  hillsong let hope rise\n",
      "Billy Lynn's Long Halftime Walk ^^^^^ billy lynns long halftime walk\n",
      "METANAME @@@@  Billy Lynn's Long Halftime Walk\n",
      "Jane Got a Gun ^^^^^ jane got a gun\n",
      "METANAME @@@@  Jane Got a Gun\n",
      "Believe (2016) ^^^^^ believe\n",
      "METANAME @@@@  Believe\n",
      "The Bounce Back ^^^^^ the bounce back\n",
      "ERROR %%%  the bounce back\n"
     ]
    }
   ],
   "source": [
    "for i in range(0,len(names)):\n",
    "    moviename = df.iloc[i]['name']\n",
    "    rank = df.iloc[i]['rank']\n",
    "    name = names[i].strip().lower()\n",
    "    print (moviename, '^^^^^', name)\n",
    "    link = link1 + name.replace(' ','-') + link2\n",
    "    \n",
    "    output_list = []\n",
    "    headers = {'User-Agent' : 'Mozilla/5.0 (Windows; U; Windows NT 6.1; en-US; rv:1.9.1.6) Gecko/20091201 Firefox/3.5.6'} \n",
    "    r = requests.get(link, headers=headers)\n",
    "    soup = BeautifulSoup(r.text, 'lxml')\n",
    "    try:\n",
    "        meta_movie_name = soup.find('div', class_='product_page_title upper pad_top2 pad_btm_half oswald').text.strip()\n",
    "        num_crit = soup.find('span', class_='based_on').text.strip()\n",
    "        error = 0\n",
    "        print ('METANAME @@@@ ', meta_movie_name)\n",
    "    except:\n",
    "        error = 1\n",
    "        print ('ERROR %%% ', name)\n",
    "        output_list.append([rank, moviename, 'error'])\n",
    "    \n",
    "    if error == 0:\n",
    "        release = soup.find('td', class_='left inset_right2 product_info lighter oswald upper pad_btm1')\n",
    "        release_date = release.find('span', class_='release_date').text.replace('Release Date:','').strip()\n",
    "        total_score = soup.find('td', class_='num_wrapper').text.strip()\n",
    "        try:\n",
    "            num_crit = soup.find('span', class_='based_on').text.strip()\n",
    "            num_crit = int(re.search(r'\\d+', num_crit).group())\n",
    "        except:\n",
    "            num_crit = ''\n",
    "        try:\n",
    "            positive = soup.find('div', class_='chart positive').text.strip()\n",
    "            positive = int(re.search(r'\\d+', positive).group())\n",
    "            mixed = soup.find('div', class_='chart mixed').text.strip()\n",
    "            mixed = int(re.search(r'\\d+', mixed).group())\n",
    "            negative = soup.find('div', class_='chart negative').text.strip()\n",
    "            negative = int(re.search(r'\\d+', negative).group())\n",
    "        except:\n",
    "            positive = ''\n",
    "            mixed = ''\n",
    "            negative = ''\n",
    "            \n",
    "        critics = soup.find_all('div', class_='review pad_top1 pad_btm1')\n",
    "        for each in critics:\n",
    "            iscore = each.find('div', class_='metascore_w').text.strip()\n",
    "            try:\n",
    "                source = each.find('span', class_='source').text.strip()\n",
    "            except:\n",
    "                source = ''\n",
    "            try:\n",
    "                source_link = 'http://www.metacritic.com/' + each.find('span', class_='source').a['href']\n",
    "            except:\n",
    "                source_link = ''\n",
    "            try:\n",
    "                author = each.find('span', class_='author').text.strip()\n",
    "            except:\n",
    "                author = ''\n",
    "            try:\n",
    "                author_link = 'http://www.metacritic.com/' + each.find('span', class_='author').a['href']\n",
    "            except:\n",
    "                author_link = ''\n",
    "            try: \n",
    "                date = each.find('span', class_='date').text.strip()\n",
    "            except:\n",
    "                date = ''\n",
    "            try:\n",
    "                summary = each.find('div', class_='summary').a.text.strip()\n",
    "            except:\n",
    "                summary = ''\n",
    "            output_list.append([rank, moviename, meta_movie_name, release_date, total_score, num_crit, positive, mixed, negative,\n",
    "                          iscore, source, source_link, author, author_link, date, summary])\n",
    "    with open('mc' + thisyear +'.csv', 'a+', encoding='UTF-8', newline='') as csvfile:\n",
    "            w = csv.writer(csvfile)\n",
    "            w.writerows(output_list)\n",
    "    time.sleep(2)"
   ]
  },
  {
   "cell_type": "code",
   "execution_count": null,
   "metadata": {
    "collapsed": true
   },
   "outputs": [],
   "source": []
  }
 ],
 "metadata": {
  "kernelspec": {
   "display_name": "Python 3",
   "language": "python",
   "name": "python3"
  },
  "language_info": {
   "codemirror_mode": {
    "name": "ipython",
    "version": 3
   },
   "file_extension": ".py",
   "mimetype": "text/x-python",
   "name": "python",
   "nbconvert_exporter": "python",
   "pygments_lexer": "ipython3",
   "version": "3.6.1"
  },
  "toc": {
   "colors": {
    "hover_highlight": "#DAA520",
    "navigate_num": "#000000",
    "navigate_text": "#333333",
    "running_highlight": "#FF0000",
    "selected_highlight": "#FFD700",
    "sidebar_border": "#EEEEEE",
    "wrapper_background": "#FFFFFF"
   },
   "moveMenuLeft": true,
   "nav_menu": {
    "height": "12px",
    "width": "252px"
   },
   "navigate_menu": true,
   "number_sections": true,
   "sideBar": true,
   "threshold": 4,
   "toc_cell": false,
   "toc_section_display": "block",
   "toc_window_display": true,
   "widenNotebook": false
  }
 },
 "nbformat": 4,
 "nbformat_minor": 2
}
