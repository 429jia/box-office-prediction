{
 "cells": [
  {
   "cell_type": "markdown",
   "metadata": {},
   "source": [
    "## Get IMDB True matching"
   ]
  },
  {
   "cell_type": "code",
   "execution_count": 5,
   "metadata": {
    "ExecuteTime": {
     "end_time": "2017-10-27T03:56:20.637789Z",
     "start_time": "2017-10-27T03:56:20.627799Z"
    },
    "collapsed": true
   },
   "outputs": [],
   "source": [
    "import pandas as pd\n",
    "import numpy as np\n",
    "import requests\n",
    "import json\n",
    "import time\n",
    "from bs4 import BeautifulSoup\n",
    "import csv"
   ]
  },
  {
   "cell_type": "code",
   "execution_count": 6,
   "metadata": {
    "ExecuteTime": {
     "end_time": "2017-10-27T03:56:21.023799Z",
     "start_time": "2017-10-27T03:56:20.992904Z"
    },
    "collapsed": true
   },
   "outputs": [],
   "source": [
    "thisyear = '2009'\n",
    "box = pd.read_csv('box' + thisyear +'.csv')\n",
    "imdb = pd.read_csv('IMDB' + thisyear +'.csv')\n",
    "error = pd.read_csv('error' + thisyear  + 'v2.csv')"
   ]
  },
  {
   "cell_type": "code",
   "execution_count": 7,
   "metadata": {
    "ExecuteTime": {
     "end_time": "2017-10-27T03:56:21.452256Z",
     "start_time": "2017-10-27T03:56:21.435526Z"
    },
    "collapsed": true,
    "scrolled": true
   },
   "outputs": [],
   "source": [
    "box_imdb = pd.merge(box, imdb,  how='inner', left_on=['rank'], right_on = ['RankinBoxOffice'])\n",
    "all_wide = pd.merge(box_imdb, error,  how='left', left_on=['rank'], right_on = ['RankinBoxOffice'])"
   ]
  },
  {
   "cell_type": "code",
   "execution_count": 8,
   "metadata": {
    "ExecuteTime": {
     "end_time": "2017-10-27T03:56:24.625764Z",
     "start_time": "2017-10-27T03:56:22.003029Z"
    }
   },
   "outputs": [
    {
     "name": "stdout",
     "output_type": "stream",
     "text": [
      "http://www.omdbapi.com/?i=tt0892782&apikey=c525df90\n",
      "http://www.omdbapi.com/?i=tt1013752&apikey=c525df90\n",
      "http://www.omdbapi.com/?i=tt1205489&apikey=c525df90\n",
      "http://www.omdbapi.com/?i=tt0808151&apikey=c525df90\n",
      "http://www.omdbapi.com/?i=tt1179904&apikey=c525df90\n",
      "http://www.omdbapi.com/?i=tt1135503&apikey=c525df90\n",
      "http://www.omdbapi.com/?i=tt1142800&apikey=c525df90\n",
      "http://www.omdbapi.com/?i=tt1114677&apikey=c525df90\n",
      "http://www.omdbapi.com/?i=tt1477715&apikey=c525df90\n",
      "http://www.omdbapi.com/?i=tt1385912&apikey=c525df90\n",
      "http://www.omdbapi.com/?i=tt0976051&apikey=c525df90\n",
      "http://www.omdbapi.com/?i=tt1022603&apikey=c525df90\n",
      "http://www.omdbapi.com/?i=tt1111422&apikey=c525df90\n",
      "http://www.omdbapi.com/?i=tt0889583&apikey=c525df90\n",
      "http://www.omdbapi.com/?i=tt1179891&apikey=c525df90\n",
      "http://www.omdbapi.com/?i=tt0929632&apikey=c525df90\n",
      "http://www.omdbapi.com/?i=tt0889583&apikey=c525df90\n",
      "http://www.omdbapi.com/?i=tt1125849&apikey=c525df90\n",
      "http://www.omdbapi.com/?i=tt1083456&apikey=c525df90\n",
      "http://www.omdbapi.com/?i=tt0876563&apikey=c525df90\n",
      "http://www.omdbapi.com/?i=tt1046947&apikey=c525df90\n",
      "http://www.omdbapi.com/?i=tt0862846&apikey=c525df90\n",
      "http://www.omdbapi.com/?i=tt1440770&apikey=c525df90\n",
      "http://www.omdbapi.com/?i=tt0959337&apikey=c525df90\n",
      "http://www.omdbapi.com/?i=tt0870111&apikey=c525df90\n",
      "http://www.omdbapi.com/?i=tt0494238&apikey=c525df90\n",
      "http://www.omdbapi.com/?i=tt1032815&apikey=c525df90\n",
      "http://www.omdbapi.com/?i=tt1098327&apikey=c525df90\n",
      "http://www.omdbapi.com/?i=tt0858486&apikey=c525df90\n"
     ]
    }
   ],
   "source": [
    "for i in range(0, len(all_wide)):\n",
    "    if pd.notnull(all_wide['RealimdbID'])[i]:\n",
    "        m= all_wide.iloc[i]['RealimdbID']\n",
    "        link = 'http://www.omdbapi.com/?i=' + m + '&apikey=c525df90'\n",
    "        print (link)\n",
    "        r = requests.get(link)\n",
    "        movie_json = json.loads(r.text)\n",
    "        \n",
    "        all_wide.at[i, 'Title'] = movie_json['Title']\n",
    "        all_wide.at[i, 'Year'] = movie_json['Year']\n",
    "        all_wide.at[i, 'imdbID'] = movie_json['imdbID']\n",
    "        all_wide.at[i, 'imdbRating'] = movie_json['imdbRating']\n",
    "        all_wide.at[i, 'imdbVotes'] = movie_json['imdbVotes']\n",
    "        all_wide.at[i, 'Type'] = movie_json['Type']\n",
    "        try:\n",
    "            all_wide.at[i, 'Website'] = movie_json['Website']\n",
    "        except: \n",
    "            all_wide.at[i, 'Website'] = ''\n",
    "        all_wide.at[i, 'Writer'] = movie_json['Writer'].replace(',','|')\n",
    "        all_wide.at[i, 'Runtime'] = movie_json['Runtime']\n",
    "        all_wide.at[i, 'Response'] = movie_json['Response']\n",
    "        all_wide.at[i, 'Released'] = movie_json['Released']\n",
    "        all_wide.at[i, 'Ratings'] = str(movie_json['Ratings']).replace(',','|')\n",
    "        all_wide.at[i, 'Rated'] =movie_json['Rated']\n",
    "        try:\n",
    "             all_wide.at[i, 'Rated'] = movie_json['Production']\n",
    "        except:\n",
    "             all_wide.at[i, 'Rated'] = ''\n",
    "        all_wide.at[i, 'Poster'] = movie_json['Poster']\n",
    "        all_wide.at[i, 'Plot'] = movie_json['Plot']\n",
    "        try:\n",
    "            all_wide.at[i, 'Metascore'] = movie_json['Metascore']\n",
    "        except:\n",
    "            pass\n",
    "        all_wide.at[i, 'Language'] = movie_json['Language']\n",
    "        all_wide.at[i, 'Genre'] = movie_json['Genre'].replace(',','|')\n",
    "        all_wide.at[i, 'Director'] = movie_json['Director'].replace(',','|')\n",
    "        try:\n",
    "            all_wide.at[i, 'DVD'] = movie_json['DVD']\n",
    "        except:\n",
    "            all_wide.at[i, 'DVD'] = ''\n",
    "        all_wide.at[i, 'Country'] = movie_json['Country']\n",
    "        try:\n",
    "            all_wide.at[i, 'BoxOffice'] = movie_json['BoxOffice']\n",
    "        except:\n",
    "            all_wide.at[i, 'BoxOffice'] = ''\n",
    "        all_wide.at[i, 'Awards'] = movie_json['Awards']\n",
    "        all_wide.at[i, 'Actors'] = movie_json['Actors'].replace(',','|')\n",
    "all_wide.drop(['RankinBoxOffice_x', 'TitleinBoxOffice_x','RankinBoxOffice_y','TitleinBoxOffice_y', 'RealimdbID'], axis=1, inplace=True)\n",
    "all_wide.to_csv('all_wide_'+ thisyear +'.csv')"
   ]
  },
  {
   "cell_type": "code",
   "execution_count": null,
   "metadata": {
    "collapsed": true
   },
   "outputs": [],
   "source": []
  }
 ],
 "metadata": {
  "kernelspec": {
   "display_name": "Python 3",
   "language": "python",
   "name": "python3"
  },
  "language_info": {
   "codemirror_mode": {
    "name": "ipython",
    "version": 3
   },
   "file_extension": ".py",
   "mimetype": "text/x-python",
   "name": "python",
   "nbconvert_exporter": "python",
   "pygments_lexer": "ipython3",
   "version": "3.6.1"
  },
  "toc": {
   "colors": {
    "hover_highlight": "#DAA520",
    "navigate_num": "#000000",
    "navigate_text": "#333333",
    "running_highlight": "#FF0000",
    "selected_highlight": "#FFD700",
    "sidebar_border": "#EEEEEE",
    "wrapper_background": "#FFFFFF"
   },
   "moveMenuLeft": true,
   "nav_menu": {
    "height": "12px",
    "width": "252px"
   },
   "navigate_menu": true,
   "number_sections": true,
   "sideBar": true,
   "threshold": 4,
   "toc_cell": false,
   "toc_section_display": "block",
   "toc_window_display": false,
   "widenNotebook": false
  }
 },
 "nbformat": 4,
 "nbformat_minor": 2
}
